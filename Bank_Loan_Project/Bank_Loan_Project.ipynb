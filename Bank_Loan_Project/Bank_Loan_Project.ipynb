{
 "cells": [
  {
   "cell_type": "code",
   "execution_count": 18,
   "metadata": {},
   "outputs": [],
   "source": [
    "# Import packages\n",
    "import pandas as pd\n",
    "import numpy as np"
   ]
  },
  {
   "cell_type": "code",
   "execution_count": 19,
   "metadata": {},
   "outputs": [],
   "source": [
    "# Import the CSV file\n",
    "'''Assign the CSV file to a variable'''\n",
    "\n",
    "df = pd.read_csv('task1.csv')"
   ]
  },
  {
   "cell_type": "code",
   "execution_count": 20,
   "metadata": {},
   "outputs": [
    {
     "name": "stdout",
     "output_type": "stream",
     "text": [
      "      Loan Purpose Checking Savings  Months Customer  Months Employed Gender  \\\n",
      "0  Small Appliance       $0    $739               13               12      M   \n",
      "1        Furniture       $0  $1,230               25                0      M   \n",
      "2          New Car       $0    $389               19              119      M   \n",
      "3        Furniture     $638    $347               13               14      M   \n",
      "4        Education     $963  $4,754               40               45      M   \n",
      "\n",
      "  Marital Status  Age Housing  Years         Job Credit Risk  \n",
      "0         Single   23     Own      3   Unskilled         Low  \n",
      "1       Divorced   32     Own      1     Skilled        High  \n",
      "2         Single   38     Own      4  Management        High  \n",
      "3         Single   36     Own      2   Unskilled        High  \n",
      "4         Single   31    Rent      3     Skilled         Low  \n",
      "<class 'pandas.core.frame.DataFrame'>\n",
      "RangeIndex: 425 entries, 0 to 424\n",
      "Data columns (total 12 columns):\n",
      " #   Column           Non-Null Count  Dtype \n",
      "---  ------           --------------  ----- \n",
      " 0   Loan Purpose     425 non-null    object\n",
      " 1   Checking         425 non-null    object\n",
      " 2   Savings          425 non-null    object\n",
      " 3   Months Customer  425 non-null    int64 \n",
      " 4   Months Employed  425 non-null    int64 \n",
      " 5   Gender           425 non-null    object\n",
      " 6   Marital Status   425 non-null    object\n",
      " 7   Age              425 non-null    int64 \n",
      " 8   Housing          425 non-null    object\n",
      " 9   Years            425 non-null    int64 \n",
      " 10  Job              425 non-null    object\n",
      " 11  Credit Risk      425 non-null    object\n",
      "dtypes: int64(4), object(8)\n",
      "memory usage: 40.0+ KB\n",
      "None\n"
     ]
    }
   ],
   "source": [
    "# Check that the csv was successfully imported\n",
    "print(df.head())\n",
    "print(df.info())"
   ]
  },
  {
   "cell_type": "code",
   "execution_count": 21,
   "metadata": {},
   "outputs": [
    {
     "name": "stderr",
     "output_type": "stream",
     "text": [
      "C:\\Users\\qussa\\AppData\\Local\\Temp\\ipykernel_21548\\1899806593.py:3: FutureWarning: The default value of regex will change from True to False in a future version. In addition, single character regular expressions will *not* be treated as literal strings when regex=True.\n",
      "  df['Checking'] = df['Checking'].str.replace('$', '').str.replace(',','').astype(float)\n",
      "C:\\Users\\qussa\\AppData\\Local\\Temp\\ipykernel_21548\\1899806593.py:4: FutureWarning: The default value of regex will change from True to False in a future version. In addition, single character regular expressions will *not* be treated as literal strings when regex=True.\n",
      "  df['Savings'] = df['Savings'].str.replace('$', '').str.replace(',','').astype(float)\n"
     ]
    }
   ],
   "source": [
    "# Transorm the checkings column to be suitable for data maniplulation\n",
    "#Remove the $ and commas and convert to float\n",
    "df['Checking'] = df['Checking'].str.replace('$', '').str.replace(',','').astype(float)\n",
    "df['Savings'] = df['Savings'].str.replace('$', '').str.replace(',','').astype(float)"
   ]
  },
  {
   "cell_type": "code",
   "execution_count": 22,
   "metadata": {},
   "outputs": [
    {
     "name": "stdout",
     "output_type": "stream",
     "text": [
      "The number of banks customers are:  425\n"
     ]
    }
   ],
   "source": [
    "# Q) How many bank customers are there in total?\n",
    "nrows = df.shape[0]\n",
    "\n",
    "print('The number of banks customers are: ', nrows)"
   ]
  },
  {
   "cell_type": "code",
   "execution_count": 23,
   "metadata": {},
   "outputs": [
    {
     "name": "stdout",
     "output_type": "stream",
     "text": [
      "The number of columns in the dataframe:  12 columns\n"
     ]
    }
   ],
   "source": [
    "# Q) How many columns are there in total?\n",
    "\n",
    "ncols = df.shape[1]\n",
    "print('The number of columns in the dataframe: ', ncols, 'columns')\n",
    "\n"
   ]
  },
  {
   "cell_type": "code",
   "execution_count": 24,
   "metadata": {},
   "outputs": [
    {
     "name": "stdout",
     "output_type": "stream",
     "text": [
      "The following columns are integers:  ['Months Customer', 'Months Employed', 'Age', 'Years']\n",
      "The following columns are strings  ['Loan Purpose', 'Gender', 'Marital Status', 'Housing', 'Job', 'Credit Risk']\n"
     ]
    }
   ],
   "source": [
    "\n",
    "# Q) Which column(s) contain integer values? Which column(s) contain string/text values?\n",
    "\n",
    "'''Create a dictionary with columns and their datatypes'''\n",
    "col_dtypes = df.dtypes.to_dict()\n",
    "\n",
    "'''Create a for loop to go through the dictionary and assign based on datatypes'''\n",
    "integer_list = []\n",
    "string_list = []\n",
    "for key, value in col_dtypes.items():\n",
    "    if value == 'int64':\n",
    "        integer_list.append(key)\n",
    "    elif value == 'O':\n",
    "        string_list.append(key)\n",
    "'''Print the integer list'''\n",
    "print('The following columns are integers: ', integer_list)\n",
    "\n",
    "'''Print the string list'''\n",
    "print('The following columns are strings ', string_list)\n"
   ]
  },
  {
   "cell_type": "code",
   "execution_count": 25,
   "metadata": {},
   "outputs": [
    {
     "name": "stdout",
     "output_type": "stream",
     "text": [
      "     Checking Credit Risk\n",
      "259   19812.0        High\n",
      "310   19766.0        High\n",
      "114   19155.0         Low\n",
      "248   18408.0         Low\n",
      "358   17366.0        High\n",
      "42    16935.0         Low\n",
      "33    16647.0         Low\n",
      "382   16630.0         Low\n",
      "79    15328.0         Low\n",
      "111   13496.0        High\n"
     ]
    }
   ],
   "source": [
    "# Q) Write Python codes to list the credit risk information of the top 10 customers who have the highest checking account balances.\n",
    "top_checking = df[['Checking', 'Credit Risk']].sort_values('Checking', ascending = False).head(10)\n",
    "print(top_checking)"
   ]
  },
  {
   "cell_type": "code",
   "execution_count": 26,
   "metadata": {},
   "outputs": [
    {
     "name": "stdout",
     "output_type": "stream",
     "text": [
      "The highest checking account balance amount is:  19812.0\n"
     ]
    }
   ],
   "source": [
    "# Q) What is the value of the highest checking account balance?\n",
    "\n",
    "print('The highest checking account balance amount is: ', list(top_checking.iloc[0])[0])"
   ]
  },
  {
   "cell_type": "code",
   "execution_count": 27,
   "metadata": {},
   "outputs": [
    {
     "name": "stdout",
     "output_type": "stream",
     "text": [
      "The difference between the highest and second highest checking balance is: $ 46\n"
     ]
    }
   ],
   "source": [
    "# Q) What is the difference between the highest and second-highest checking account balance?\n",
    "\n",
    "'''Sort the dataframe from highest to lowest checking balance and assign to a variable'''\n",
    "sorted = df.sort_values('Checking', ascending = False)\n",
    "\n",
    "'''Assign the highest checking balance'''\n",
    "highest_checking = sorted.iloc[0,1]\n",
    "\n",
    "'''Assign the second highest checking balance'''\n",
    "second_highest_checking = sorted.iloc[1,1]\n",
    "\n",
    "'''Calculate the difference between the highest and second highest checking account balance'''\n",
    "difference = int(highest_checking) - int(second_highest_checking)\n",
    "print('The difference between the highest and second highest checking balance is:','$', difference)\n",
    "\n"
   ]
  },
  {
   "cell_type": "code",
   "execution_count": 28,
   "metadata": {},
   "outputs": [
    {
     "name": "stdout",
     "output_type": "stream",
     "text": [
      "Small Appliance has the highest number of applications\n",
      "Retraining has the least number of applications\n"
     ]
    }
   ],
   "source": [
    "# Q) Among all the different types of loans, which type of loan has the most and least number of applications?\n",
    "\n",
    "# Define the function\n",
    "def loan_count(df, col_name = 'Loan Purpose'):\n",
    "\n",
    "    ''' Return a dictionary with the count for each value in a column'''\n",
    "    \n",
    "    #extract the column into a variable\n",
    "    col = df[col_name]\n",
    "    \n",
    "    # Create a dictionary\n",
    "    cols_count = {}\n",
    "\n",
    "    # Create a loop to iterate over the column and extract counts into the dictionary\n",
    "    for entry in col:\n",
    "        if entry in cols_count.keys():\n",
    "            cols_count[entry] += 1\n",
    "        else:\n",
    "            cols_count[entry] = 1\n",
    "    return cols_count\n",
    "\n",
    "# Return the result and assign the dictionary to a variable\n",
    "result1 = loan_count(df, 'Loan Purpose')\n",
    "\n",
    "# Find the max value in the dictionary and assign it to a variable\n",
    "loan_max = max(result1, key = lambda x : result1[x])\n",
    "\n",
    "# Find the min value in the dictionary and assign it to a variable\n",
    "loan_min = min(result1, key = lambda y : result1[y])\n",
    "\n",
    "# Print the values to find the loans with the highest and least amount of applications\n",
    "print(loan_max, 'has the highest number of applications')\n",
    "print(loan_min, 'has the least number of applications')\n"
   ]
  },
  {
   "cell_type": "code",
   "execution_count": 29,
   "metadata": {},
   "outputs": [
    {
     "name": "stdout",
     "output_type": "stream",
     "text": [
      "The number of customers that applied to a New Car is 104\n",
      "The number of customers that applied to a Used Car is 40\n",
      "The number of customers that applied to a Business is 44\n",
      "The number of customers that applied to a Education is 23\n",
      "The number of customers that applied to a Small Appliance is 105\n",
      "The number of customers that applied to a Furniture is 85\n"
     ]
    }
   ],
   "source": [
    "# Q) How many customers have applied for new car, used-car, business, education, small-appliance, and furniture loans?\n",
    "\n",
    "# Use the dictionary from the previous question (result1)\n",
    "\n",
    "new_car = result1['New Car']\n",
    "used_car = result1['Used Car']\n",
    "business = result1['Business']\n",
    "education = result1['Education']\n",
    "small_appliance = result1['Small Appliance']\n",
    "furniture_loans = result1['Furniture']\n",
    "\n",
    "\n",
    "print('The number of customers that applied to a New Car is', new_car)\n",
    "print('The number of customers that applied to a Used Car is', used_car)\n",
    "print('The number of customers that applied to a Business is', business)\n",
    "print('The number of customers that applied to a Education is', education)\n",
    "print('The number of customers that applied to a Small Appliance is', small_appliance)\n",
    "print('The number of customers that applied to a Furniture is', furniture_loans)\n"
   ]
  },
  {
   "cell_type": "code",
   "execution_count": 30,
   "metadata": {},
   "outputs": [
    {
     "name": "stdout",
     "output_type": "stream",
     "text": [
      "The number of customers that applied to Small Appliance is 105\n",
      "The number of customers that applied to Furniture is 85\n",
      "The number of customers that applied to New Car is 104\n",
      "The number of customers that applied to Education is 23\n",
      "The number of customers that applied to Business is 44\n",
      "The number of customers that applied to Used Car is 40\n",
      "None\n"
     ]
    }
   ],
   "source": [
    "# Q) How many customers have applied for new car, used-car, business, education, small-appliance, and furniture loans?\n",
    "# Same question as above but shortened as a function:\n",
    "\n",
    "# Define the function with it's parameters\n",
    "def count_customers(loan_dict, *search_keys):\n",
    "\n",
    "    ''' Iterates over a dictionary and extracts the key value pairs'''\n",
    "\n",
    "    # Create a for loop to iterate over the dictionary\n",
    "    for loan_type, count in loan_dict.items():\n",
    "\n",
    "        # Check if search_keys is empty or not and filter values of interest\n",
    "        if not search_keys or loan_type in search_keys:\n",
    "            print('The number of customers that applied to', loan_type, 'is', count)\n",
    "            \n",
    "# Print the result from running the function\n",
    "result2 = count_customers(result1, 'New Car', 'Used Car','Business', 'Education', 'Small Appliance', 'Furniture' )\n",
    "print (result2)"
   ]
  },
  {
   "cell_type": "code",
   "execution_count": 31,
   "metadata": {},
   "outputs": [
    {
     "name": "stdout",
     "output_type": "stream",
     "text": [
      "The number of customers that applied to Small Appliance is 105\n",
      "The number of customers that applied to Furniture is 85\n",
      "The number of customers that applied to New Car is 104\n",
      "The number of customers that applied to Education is 23\n",
      "The number of customers that applied to Business is 44\n",
      "The number of customers that applied to Used Car is 40\n",
      "None\n"
     ]
    }
   ],
   "source": [
    "# Q) How many customers have applied for new car, used-car, business, education, small-appliance, and furniture loans?\n",
    "# Same question as above but shortened as a function:\n",
    "\n",
    "# Define the function with it's parameters\n",
    "def count_customers(loan_dict, *search_keys):\n",
    "\n",
    "    ''' Iterates over a dictionary and extracts the key value pairs'''\n",
    "\n",
    "    # Create a for loop to iterate over the dictionary\n",
    "    for loan_type, count in loan_dict.items():\n",
    "        # Check if search_keys is empty or not and filter values of interest\n",
    "        if not search_keys:\n",
    "            print('The number of customers that applied to', loan_type, 'is', count)\n",
    "        else:\n",
    "            if loan_type in search_keys:\n",
    "             print('The number of customers that applied to', loan_type, 'is', count)\n",
    "\n",
    "# Print the result from running the function\n",
    "result2 = count_customers(result1, 'New Car', 'Used Car','Business', 'Education', 'Small Appliance', 'Furniture' )\n",
    "print (result2)"
   ]
  },
  {
   "cell_type": "code",
   "execution_count": 34,
   "metadata": {},
   "outputs": [
    {
     "name": "stdout",
     "output_type": "stream",
     "text": [
      "<class 'pandas.core.series.Series'>\n",
      "RangeIndex: 425 entries, 0 to 424\n",
      "Series name: Savings\n",
      "Non-Null Count  Dtype  \n",
      "--------------  -----  \n",
      "425 non-null    float64\n",
      "dtypes: float64(1)\n",
      "memory usage: 3.4 KB\n",
      "None\n",
      "     Savings\n",
      "0      739.0\n",
      "1     1230.0\n",
      "2      389.0\n",
      "3      347.0\n",
      "4     4754.0\n",
      "..       ...\n",
      "420      0.0\n",
      "421      0.0\n",
      "422      0.0\n",
      "423    712.0\n",
      "424    912.0\n",
      "\n",
      "[425 rows x 1 columns]\n",
      "The average savings account balance for a customer is: $ 1812.56\n"
     ]
    }
   ],
   "source": [
    "# Q)How much is customers’ average savings account balance?\n",
    "\n",
    "# View the datatype of column\n",
    "print(df['Savings'].info())\n",
    "\n",
    "# View the column\n",
    "print(df[['Savings']])\n",
    "\n",
    "# Calculate the average\n",
    "savings_avg = df['Savings'].mean()\n",
    "\n",
    "# Print the value\n",
    "print('The average savings account balance for a customer is:', '$', round(savings_avg, 2))"
   ]
  },
  {
   "cell_type": "code",
   "execution_count": 36,
   "metadata": {},
   "outputs": [
    {
     "name": "stdout",
     "output_type": "stream",
     "text": [
      "The median savings account balance is: $ 596.0\n",
      "The mean savings account balance is higher\n"
     ]
    }
   ],
   "source": [
    "# Q) Compare the average savings account balance with the median savings account balance. Which value is higher?\n",
    "\n",
    "savings_median = df['Savings'].median()\n",
    "print('The median savings account balance is:', '$', savings_median)\n",
    "\n",
    "if savings_median > savings_avg:\n",
    "    print('The median savings account balance is higher')\n",
    "else:\n",
    "    print('The mean savings account balance is higher')"
   ]
  },
  {
   "cell_type": "code",
   "execution_count": 37,
   "metadata": {},
   "outputs": [
    {
     "name": "stdout",
     "output_type": "stream",
     "text": [
      "The number of customers that have applied for a new car loan with a checking balance less than 500 is: 77\n",
      "The average checking balance for these customers is: 60.58\n",
      "The average savings balance for these customers is: 1350.51\n"
     ]
    }
   ],
   "source": [
    "# Q) How many customers have applied for new car loans and have checking account balances of less than $500? What is the average savings account balance of these customers?\n",
    "# Loop through the necessary columns and count the number of customers\n",
    "count = 0\n",
    "cust_list_checking = []\n",
    "cust_list_savings = []\n",
    "for index, row in df.iterrows():\n",
    "    if (row['Loan Purpose'] == 'New Car') & (row['Checking'] < 500):\n",
    "        count += 1\n",
    "        cust_list_checking.append(row['Checking'])\n",
    "        cust_list_savings.append(row['Savings'])\n",
    "\n",
    "cust_list_checking_array = np.array(cust_list_checking)\n",
    "cust_list_checking_avg = cust_list_checking_array.mean()\n",
    "\n",
    "cust_list_savings_array = np.array(cust_list_savings)\n",
    "cust_list_savings_avg = cust_list_savings_array.mean()\n",
    "\n",
    "print('The number of customers that have applied for a new car loan with a checking balance less than 500 is:', count)\n",
    "print('The average checking balance for these customers is:', round(cust_list_checking_avg, 2))\n",
    "print('The average savings balance for these customers is:', round(cust_list_savings_avg, 2))\n",
    "\n",
    "\n"
   ]
  },
  {
   "cell_type": "code",
   "execution_count": 38,
   "metadata": {},
   "outputs": [
    {
     "name": "stdout",
     "output_type": "stream",
     "text": [
      "0      medium\n",
      "1      medium\n",
      "2      medium\n",
      "3      medium\n",
      "4        high\n",
      "        ...  \n",
      "420    medium\n",
      "421       low\n",
      "422       low\n",
      "423    medium\n",
      "424    medium\n",
      "Name: Total Balance Status, Length: 425, dtype: object\n",
      "        Loan Purpose  Checking  Savings  Months Customer  Months Employed  \\\n",
      "0    Small Appliance       0.0    739.0               13               12   \n",
      "1          Furniture       0.0   1230.0               25                0   \n",
      "2            New Car       0.0    389.0               19              119   \n",
      "3          Furniture     638.0    347.0               13               14   \n",
      "4          Education     963.0   4754.0               40               45   \n",
      "..               ...       ...      ...              ...              ...   \n",
      "420  Small Appliance     497.0      0.0                7               51   \n",
      "421        Furniture       0.0      0.0               31               53   \n",
      "422          New Car       0.0      0.0               25              103   \n",
      "423          New Car       0.0    712.0               16                6   \n",
      "424          New Car       0.0    912.0                7               39   \n",
      "\n",
      "    Gender Marital Status  Age Housing  Years         Job Credit Risk  \\\n",
      "0        M         Single   23     Own      3   Unskilled         Low   \n",
      "1        M       Divorced   32     Own      1     Skilled        High   \n",
      "2        M         Single   38     Own      4  Management        High   \n",
      "3        M         Single   36     Own      2   Unskilled        High   \n",
      "4        M         Single   31    Rent      3     Skilled         Low   \n",
      "..     ...            ...  ...     ...    ...         ...         ...   \n",
      "420      M         Single   35   Other      4     Skilled         Low   \n",
      "421      M         Single   30     Own      4     Skilled        High   \n",
      "422      F       Divorced   28     Own      2     Skilled        High   \n",
      "423      F       Divorced   28     Own      2     Skilled        High   \n",
      "424      M         Single   44     Own      3  Management         Low   \n",
      "\n",
      "     Total Balance Total Balance Status  \n",
      "0            739.0               medium  \n",
      "1           1230.0               medium  \n",
      "2            389.0               medium  \n",
      "3            985.0               medium  \n",
      "4           5717.0                 high  \n",
      "..             ...                  ...  \n",
      "420          497.0               medium  \n",
      "421            0.0                  low  \n",
      "422            0.0                  low  \n",
      "423          712.0               medium  \n",
      "424          912.0               medium  \n",
      "\n",
      "[425 rows x 14 columns]\n"
     ]
    }
   ],
   "source": [
    "# Q) Write Python codes to add a new column called Total Balance, \n",
    "# which sums up the checking and savings account balance. \n",
    "# Then, classify the total balance as low if it is less than $250, \n",
    "# medium if $250 and above but less than $2000, and high otherwise. \n",
    "# Store the balance status in your Dataframe object.\n",
    "\n",
    "df['Total Balance'] = df['Checking'] + df['Savings']\n",
    "\n",
    "def classify(balance):\n",
    "    if balance >= 2000:\n",
    "        return 'high'\n",
    "    elif (balance >= 250) & (balance < 2000):\n",
    "        return 'medium'\n",
    "    else:\n",
    "        return 'low'\n",
    "    \n",
    "\n",
    "df['Total Balance Status'] = df['Total Balance'].apply(classify)\n",
    "\n",
    "print(df['Total Balance Status'])\n",
    "print(df)\n",
    "\n"
   ]
  },
  {
   "cell_type": "code",
   "execution_count": 39,
   "metadata": {},
   "outputs": [
    {
     "name": "stdout",
     "output_type": "stream",
     "text": [
      "                             Age  Months Customer  Months Employed\n",
      "Marital Status Gender                                             \n",
      "Divorced       F       31.859259        20.637037        20.251852\n",
      "               M       37.761905        26.285714        18.571429\n",
      "Married        M       28.861111        19.916667        25.694444\n",
      "Single         M       36.420601        24.360515        40.802575\n"
     ]
    }
   ],
   "source": [
    "# Q) Write Python codes to generate a Pivot table to summarise the average age, months employed, and tenure of customers for different marital statuses and genders.\n",
    "\n",
    "df_pivot = df.pivot_table(values = ['Age','Months Employed', 'Months Customer'], index = ['Marital Status', 'Gender'])\n",
    "\n",
    "print(df_pivot)"
   ]
  }
 ],
 "metadata": {
  "kernelspec": {
   "display_name": "701_Project",
   "language": "python",
   "name": "python3"
  },
  "language_info": {
   "codemirror_mode": {
    "name": "ipython",
    "version": 3
   },
   "file_extension": ".py",
   "mimetype": "text/x-python",
   "name": "python",
   "nbconvert_exporter": "python",
   "pygments_lexer": "ipython3",
   "version": "3.10.7"
  },
  "orig_nbformat": 4
 },
 "nbformat": 4,
 "nbformat_minor": 2
}
